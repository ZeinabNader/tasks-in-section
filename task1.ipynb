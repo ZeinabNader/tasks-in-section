{
  "nbformat": 4,
  "nbformat_minor": 0,
  "metadata": {
    "colab": {
      "provenance": [],
      "collapsed_sections": [],
      "authorship_tag": "ABX9TyPBMta2bG+A6D4IRA9ReeRj",
      "include_colab_link": true
    },
    "kernelspec": {
      "name": "python3",
      "display_name": "Python 3"
    },
    "language_info": {
      "name": "python"
    }
  },
  "cells": [
    {
      "cell_type": "markdown",
      "metadata": {
        "id": "view-in-github",
        "colab_type": "text"
      },
      "source": [
        "<a href=\"https://colab.research.google.com/github/ZeinabNader/tasks-in-section/blob/main/task1.ipynb\" target=\"_parent\"><img src=\"https://colab.research.google.com/assets/colab-badge.svg\" alt=\"Open In Colab\"/></a>"
      ]
    },
    {
      "cell_type": "code",
      "execution_count": 5,
      "metadata": {
        "colab": {
          "base_uri": "https://localhost:8080/"
        },
        "id": "EKGm3ucL2Ice",
        "outputId": "8ef0ed2d-7ce0-406c-fd31-e40e3462fa62"
      },
      "outputs": [
        {
          "output_type": "stream",
          "name": "stdout",
          "text": [
            "Looking in indexes: https://pypi.org/simple, https://us-python.pkg.dev/colab-wheels/public/simple/\n",
            "Requirement already satisfied: pyopenms in /usr/local/lib/python3.7/dist-packages (2.7.0)\n",
            "Requirement already satisfied: numpy in /usr/local/lib/python3.7/dist-packages (from pyopenms) (1.21.6)\n",
            "Avogadro's number is  6.0221367e+23\n"
          ]
        }
      ],
      "source": [
        "!pip install pyopenms\n",
        "import pyopenms\n",
        "print (\"Avogadro's number is \",pyopenms.Constants.AVOGADRO)\n",
        "\n",
        "\n",
        "\n"
      ]
    },
    {
      "cell_type": "code",
      "source": [
        "from pyopenms import *\n",
        "edb = ElementDB()\n",
        "#edb = hasElement(\"O\")\n",
        "oxygen = edb.getElement(\"O\")\n",
        "print(oxygen.getName())\n",
        "print(oxygen.getSymbol())\n",
        "print(oxygen.getMonoWeight())\n",
        "print(oxygen.getAverageWeight())\n",
        "print(\"one mole of oxygen weights\",2*oxygen.getAverageWeight(),\"grams\")\n"
      ],
      "metadata": {
        "colab": {
          "base_uri": "https://localhost:8080/"
        },
        "id": "04OxZju-37WV",
        "outputId": "fef16d96-6ab0-4ac3-ae2b-49e1148d20a6"
      },
      "execution_count": 10,
      "outputs": [
        {
          "output_type": "stream",
          "name": "stdout",
          "text": [
            "Oxygen\n",
            "O\n",
            "15.994915\n",
            "15.999405323160001\n",
            "one mole of oxygen weights 31.998810646320003 grams\n"
          ]
        }
      ]
    },
    {
      "cell_type": "code",
      "source": [
        "sulfur = edb.getElement(\"S\")\n",
        "print (sulfur.getMonoWeight())\n",
        "print (sulfur.getAverageWeight())\n",
        "isotopes = sulfur.getIsotopeDistribution()\n",
        "print (\"one mole of 1602 weights\",2*oxygen.getAverageWeight(),\"grams\")"
      ],
      "metadata": {
        "colab": {
          "base_uri": "https://localhost:8080/"
        },
        "id": "geDkeAto38OX",
        "outputId": "1d07c4c5-7a70-4dd5-b6f6-30ff1b0cfa89"
      },
      "execution_count": 11,
      "outputs": [
        {
          "output_type": "stream",
          "name": "stdout",
          "text": [
            "31.97207073\n",
            "32.066084735289\n",
            "one mole of 1602 weights 31.998810646320003 grams\n"
          ]
        }
      ]
    },
    {
      "cell_type": "code",
      "source": [
        "edb = ElementDB()\n",
        "oxygen_isoDist = {\"mass\":[],\"abundance\":[]}\n",
        "oxygen = edb.getElement(\"O\")\n",
        "isotopes=oxygen.getIsotopeDistribution()\n",
        "for iso in isotopes.getContainer():\n",
        "  print (\"oxygen isotope\",iso.getMZ(),\"has abundance\",iso.getIntensity()*100,\"%\")\n",
        "  oxygen_isoDist[\"mass\"].append(iso.getMZ())\n",
        "  oxygen_isoDist[\"abundance\"].append((iso.getIntensity()*100))\n",
        "\n"
      ],
      "metadata": {
        "colab": {
          "base_uri": "https://localhost:8080/"
        },
        "id": "8U7k9-lm70-M",
        "outputId": "18871f70-a13f-4a82-c65c-8c08af66650e"
      },
      "execution_count": 13,
      "outputs": [
        {
          "output_type": "stream",
          "name": "stdout",
          "text": [
            "oxygen isotope 15.994915 has abundance 99.75699782371521 %\n",
            "oxygen isotope 16.999132 has abundance 0.03800000122282654 %\n",
            "oxygen isotope 17.999169 has abundance 0.20500000100582838 %\n"
          ]
        }
      ]
    },
    {
      "cell_type": "code",
      "source": [
        "\n",
        "import math\n",
        "from matplotlib import pyplot as plt\n",
        "\n",
        "# very simple overlappping correction of annotations\n",
        "def adjustText(x1, y1, x2, y2):\n",
        "    if y1 > y2:\n",
        "        plt.annotate('%0.3f' % (y2), xy=(x2, y2), xytext=(x2+0.5,y2+9),\n",
        "                     textcoords='data',\n",
        "                     arrowprops=dict(arrowstyle=\"->\", color='r', lw=0.5),\n",
        "                     horizontalalignment='right', verticalalignment='top')\n",
        "    else:\n",
        "        plt.annotate('%0.3f' % (y1), xy=(x1, y1), xytext=(x1+0.5,y1+9),\n",
        "                     textcoords='data',\n",
        "                     arrowprops=dict(arrowstyle=\"->\", color='r', lw=0.5),\n",
        "                     horizontalalignment='right', verticalalignment='top')\n",
        "\n",
        "\n",
        "def plotDistribution(distribution):\n",
        "    n = len(distribution[\"mass\"])\n",
        "    for i in range(0, n):\n",
        "        plt.vlines(x=distribution[\"mass\"][i], ymin=0, ymax=distribution[\"abundance\"][i])\n",
        "        if int(distribution[\"mass\"][i - 1]) == int(distribution[\"mass\"][i]) \\\n",
        "                and i != 0:\n",
        "            adjustText(distribution[\"mass\"][i - 1], distribution[\"abundance\"][i - 1],\n",
        "                       distribution[\"mass\"][i], distribution[\"abundance\"][i])\n",
        "        else:\n",
        "            plt.text(x=distribution[\"mass\"][i],\n",
        "                     y=(distribution[\"abundance\"][i] + 2),\n",
        "                     s='%0.3f' % (distribution[\"abundance\"][i]), va='center',\n",
        "                     ha='center')\n",
        "    plt.ylim([0, 110])\n",
        "    plt.xticks(range(math.ceil(distribution[\"mass\"][0]) - 2,\n",
        "                     math.ceil(distribution[\"mass\"][-1]) + 2))\n",
        "\n",
        "\n",
        "plt.figure(figsize=(10,7))\n",
        "\n",
        "plt.subplot(1,2,1)\n",
        "plt.title(\"Isotopic distribution of oxygen\")\n",
        "plotDistribution(oxygen_isoDist)\n",
        "plt.xlabel(\"Atomic mass (u)\")\n",
        "plt.ylabel(\"Relative abundance (%)\")\n",
        "\n",
        "plt.subplot(1,2,2)\n",
        "plt.title(\"Isotopic distribution of sulfur\")\n",
        "plotDistribution(sulfur_isoDist)\n",
        "plt.xlabel(\"Atomic mass (u)\")\n",
        "plt.ylabel(\"Relative abundance (%)\")\n",
        "\n",
        "plt.show()"
      ],
      "metadata": {
        "colab": {
          "base_uri": "https://localhost:8080/",
          "height": 676
        },
        "id": "tS4URYpp94Xy",
        "outputId": "6e9b4d1d-1c62-41fd-e141-e7d3f546da67"
      },
      "execution_count": 39,
      "outputs": [
        {
          "output_type": "error",
          "ename": "NameError",
          "evalue": "ignored",
          "traceback": [
            "\u001b[0;31m---------------------------------------------------------------------------\u001b[0m",
            "\u001b[0;31mNameError\u001b[0m                                 Traceback (most recent call last)",
            "\u001b[0;32m<ipython-input-39-2aa4e0ddc44a>\u001b[0m in \u001b[0;36m<module>\u001b[0;34m\u001b[0m\n\u001b[1;32m     44\u001b[0m \u001b[0mplt\u001b[0m\u001b[0;34m.\u001b[0m\u001b[0msubplot\u001b[0m\u001b[0;34m(\u001b[0m\u001b[0;36m1\u001b[0m\u001b[0;34m,\u001b[0m\u001b[0;36m2\u001b[0m\u001b[0;34m,\u001b[0m\u001b[0;36m2\u001b[0m\u001b[0;34m)\u001b[0m\u001b[0;34m\u001b[0m\u001b[0;34m\u001b[0m\u001b[0m\n\u001b[1;32m     45\u001b[0m \u001b[0mplt\u001b[0m\u001b[0;34m.\u001b[0m\u001b[0mtitle\u001b[0m\u001b[0;34m(\u001b[0m\u001b[0;34m\"Isotopic distribution of sulfur\"\u001b[0m\u001b[0;34m)\u001b[0m\u001b[0;34m\u001b[0m\u001b[0;34m\u001b[0m\u001b[0m\n\u001b[0;32m---> 46\u001b[0;31m \u001b[0mplotDistribution\u001b[0m\u001b[0;34m(\u001b[0m\u001b[0msulfur_isoDist\u001b[0m\u001b[0;34m)\u001b[0m\u001b[0;34m\u001b[0m\u001b[0;34m\u001b[0m\u001b[0m\n\u001b[0m\u001b[1;32m     47\u001b[0m \u001b[0mplt\u001b[0m\u001b[0;34m.\u001b[0m\u001b[0mxlabel\u001b[0m\u001b[0;34m(\u001b[0m\u001b[0;34m\"Atomic mass (u)\"\u001b[0m\u001b[0;34m)\u001b[0m\u001b[0;34m\u001b[0m\u001b[0;34m\u001b[0m\u001b[0m\n\u001b[1;32m     48\u001b[0m \u001b[0mplt\u001b[0m\u001b[0;34m.\u001b[0m\u001b[0mylabel\u001b[0m\u001b[0;34m(\u001b[0m\u001b[0;34m\"Relative abundance (%)\"\u001b[0m\u001b[0;34m)\u001b[0m\u001b[0;34m\u001b[0m\u001b[0;34m\u001b[0m\u001b[0m\n",
            "\u001b[0;31mNameError\u001b[0m: name 'sulfur_isoDist' is not defined"
          ]
        },
        {
          "output_type": "display_data",
          "data": {
            "text/plain": [
              "<Figure size 720x504 with 2 Axes>"
            ],
            "image/png": "[encoded data removed]"
          },
          "metadata": {
            "needs_background": "light"
          }
        }
      ]
    },
    {
      "cell_type": "code",
      "source": [
        "edb = ElementDB()\n",
        "\n",
        "\n",
        "isotopes = edb.getElement(\"C\").getIsotopeDistribution().getContainer()\n",
        "\n",
        "\n",
        "carbon_isotope_difference = isotopes[1].getMZ() - isotopes[0].getMZ()\n",
        "\n",
        "\n",
        "isotopes = edb.getElement(\"N\").getIsotopeDistribution().getContainer()\n",
        "\n",
        "\n",
        "\n",
        "nitrogen_isotope_difference = isotopes[1].getMZ() - isotopes[0].getMZ()\n",
        "print (\"Mass difference between 12C and 13C:\", carbon_isotope_difference)\n",
        "print (\"Mass difference between 14N and N15:\", nitrogen_isotope_difference)\n",
        "print (\"Relative deviation:\", 100*(carbon_isotope_difference -nitrogen_isotope_difference)/carbon_isotope_difference, \"%\")"
      ],
      "metadata": {
        "colab": {
          "base_uri": "https://localhost:8080/"
        },
        "id": "7RPniSBcUPMB",
        "outputId": "8c8829c6-69e5-4b77-cf18-d46b56205045"
      },
      "execution_count": 33,
      "outputs": [
        {
          "output_type": "stream",
          "name": "stdout",
          "text": [
            "Mass difference between 12C and 13C: 1.0033550000000009\n",
            "Mass difference between 14N and N15: 0.9970350000000003\n",
            "Relative deviation: 0.6298867300208343 %\n"
          ]
        }
      ]
    },
    {
      "cell_type": "code",
      "source": [
        "methanol = EmpiricalFormula(\"CH3OH\")\n",
        "\n",
        "\n",
        "water = EmpiricalFormula(\"H2O\")\n",
        "\n",
        "\n",
        "\n",
        "ethanol = EmpiricalFormula(\"CH2\") + methanol\n",
        "\n",
        "\n",
        "\n",
        "print(\"Ethanol chemical formula:\", ethanol.toString())\n",
        "print(\"Ethanol composition:\", ethanol.getElementalComposition())\n",
        "print(\"Ethanol has\", ethanol.getElementalComposition()[b\"H\"], \"hydrogen atoms\")"
      ],
      "metadata": {
        "colab": {
          "base_uri": "https://localhost:8080/"
        },
        "id": "NxT-3pJTUm2z",
        "outputId": "e49e36a6-1f05-49de-da1d-93bc70a2199a"
      },
      "execution_count": 34,
      "outputs": [
        {
          "output_type": "stream",
          "name": "stdout",
          "text": [
            "Ethanol chemical formula: C2H6O1\n",
            "Ethanol composition: {b'C': 2, b'H': 6, b'O': 1}\n",
            "Ethanol has 6 hydrogen atoms\n"
          ]
        }
      ]
    },
    {
      "cell_type": "code",
      "source": [
        "lys = ResidueDB().getResidue(\"Lysine\")\n",
        "print(lys.getName())\n",
        "print(lys.getThreeLetterCode())\n",
        "print(lys.getOneLetterCode())\n",
        "print(lys.getAverageWeight())\n",
        "print(lys.getMonoWeight())\n",
        "print(lys.getPka())\n",
        "print(lys.getFormula().toString())"
      ],
      "metadata": {
        "colab": {
          "base_uri": "https://localhost:8080/"
        },
        "id": "4cL__ip5Uy5v",
        "outputId": "e04fa400-8a93-45fb-af89-f9bf51d59b28"
      },
      "execution_count": 35,
      "outputs": [
        {
          "output_type": "stream",
          "name": "stdout",
          "text": [
            "Lysine\n",
            "Lys\n",
            "K\n",
            "146.18788276708443\n",
            "146.1055284466\n",
            "2.16\n",
            "C6H14N2O2\n"
          ]
        }
      ]
    },
    {
      "cell_type": "code",
      "source": [
        "ox = ModificationsDB().getModification(\"Oxidation\")\n",
        "print(ox.getUniModAccession())\n",
        "print(ox.getUniModRecordId())\n",
        "print(ox.getDiffMonoMass())\n",
        "print(ox.getId())\n",
        "print(ox.getFullId())\n",
        "print(ox.getFullName())\n",
        "print(ox.getDiffFormula())"
      ],
      "metadata": {
        "colab": {
          "base_uri": "https://localhost:8080/"
        },
        "id": "hMEke7jZVOa7",
        "outputId": "4ff00e30-bfe6-4ba7-fd8c-85f255e48c1e"
      },
      "execution_count": 36,
      "outputs": [
        {
          "output_type": "stream",
          "name": "stdout",
          "text": [
            "UniMod:35\n",
            "35\n",
            "15.994915\n",
            "Oxidation\n",
            "Oxidation (D)\n",
            "Oxidation or Hydroxylation\n",
            "O1\n"
          ]
        }
      ]
    },
    {
      "cell_type": "code",
      "source": [
        "isotopes = ox.getDiffFormula().getIsotopeDistribution(CoarseIsotopePatternGenerator(5))\n",
        "for iso in isotopes.getContainer():\n",
        "    print (iso.getMZ(), \":\", iso.getIntensity())"
      ],
      "metadata": {
        "colab": {
          "base_uri": "https://localhost:8080/"
        },
        "id": "7_KXlWQ3VaUH",
        "outputId": "040e1b47-c284-4180-bdb9-593d40818150"
      },
      "execution_count": 37,
      "outputs": [
        {
          "output_type": "stream",
          "name": "stdout",
          "text": [
            "15.994915 : 0.9975699782371521\n",
            "16.998269837800002 : 0.0003800000122282654\n",
            "18.0016246756 : 0.002050000010058284\n"
          ]
        }
      ]
    },
    {
      "cell_type": "code",
      "source": [
        "uridine = RibonucleotideDB().getRibonucleotide(b\"U\")\n",
        "\n",
        "#########  Name\n",
        "\n",
        "print(uridine.getName())\n",
        "print(uridine.getCode())\n",
        "print(uridine.getAvgMass())\n",
        "print(uridine.getMonoMass())\n",
        "print(uridine.getFormula().toString())\n",
        "print(uridine.isModified())\n",
        "methyladenosine = RibonucleotideDB().getRibonucleotide(b\"m1A\")\n",
        "print(methyladenosine.getName())\n",
        "print(methyladenosine.isModified())"
      ],
      "metadata": {
        "colab": {
          "base_uri": "https://localhost:8080/"
        },
        "id": "eHj73jnOVgrA",
        "outputId": "9133feec-34e6-4bf8-fe5c-3832762419ba"
      },
      "execution_count": 38,
      "outputs": [
        {
          "output_type": "stream",
          "name": "stdout",
          "text": [
            "uridine\n",
            "U\n",
            "244.2043\n",
            "244.0695\n",
            "C9H12N2O6\n",
            "False\n",
            "1-methyladenosine\n",
            "True\n"
          ]
        }
      ]
    }
  ]
}